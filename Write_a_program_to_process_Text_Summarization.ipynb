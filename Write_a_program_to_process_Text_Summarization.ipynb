{
  "nbformat": 4,
  "nbformat_minor": 0,
  "metadata": {
    "colab": {
      "name": "Write a program to process Text Summarization.ipynb",
      "provenance": []
    },
    "kernelspec": {
      "name": "python3",
      "display_name": "Python 3"
    },
    "language_info": {
      "name": "python"
    }
  },
  "cells": [
    {
      "cell_type": "markdown",
      "metadata": {
        "id": "s-fs6oLaRrol"
      },
      "source": [
        "#Text Summarization"
      ]
    },
    {
      "cell_type": "code",
      "metadata": {
        "colab": {
          "base_uri": "https://localhost:8080/"
        },
        "id": "d-H-wFyJSlE2",
        "outputId": "719ea8da-adb4-45f6-ad53-526dcc92892b"
      },
      "source": [
        "import nltk\n",
        "nltk.download('punkt')\n",
        "nltk.download('averaged_perceptron_tagger')\n",
        "nltk.download('maxent_ne_chunker')\n",
        "nltk.download('words')"
      ],
      "execution_count": 21,
      "outputs": [
        {
          "output_type": "stream",
          "text": [
            "[nltk_data] Downloading package punkt to /root/nltk_data...\n",
            "[nltk_data]   Package punkt is already up-to-date!\n",
            "[nltk_data] Downloading package averaged_perceptron_tagger to\n",
            "[nltk_data]     /root/nltk_data...\n",
            "[nltk_data]   Package averaged_perceptron_tagger is already up-to-\n",
            "[nltk_data]       date!\n",
            "[nltk_data] Downloading package maxent_ne_chunker to\n",
            "[nltk_data]     /root/nltk_data...\n",
            "[nltk_data]   Package maxent_ne_chunker is already up-to-date!\n",
            "[nltk_data] Downloading package words to /root/nltk_data...\n",
            "[nltk_data]   Unzipping corpora/words.zip.\n"
          ],
          "name": "stdout"
        },
        {
          "output_type": "execute_result",
          "data": {
            "text/plain": [
              "True"
            ]
          },
          "metadata": {
            "tags": []
          },
          "execution_count": 21
        }
      ]
    },
    {
      "cell_type": "code",
      "metadata": {
        "id": "ARh-y0sURPW-"
      },
      "source": [
        "from nltk.tokenize import word_tokenize\n",
        "from nltk.tokenize import sent_tokenize"
      ],
      "execution_count": 14,
      "outputs": []
    },
    {
      "cell_type": "code",
      "metadata": {
        "id": "yelOKjWBRqky"
      },
      "source": [
        "## Importing the dataset ##\n",
        "dataset = open(\"/content/President_Speech.txt\", encoding='cp1252').read()"
      ],
      "execution_count": 7,
      "outputs": []
    },
    {
      "cell_type": "code",
      "metadata": {
        "colab": {
          "base_uri": "https://localhost:8080/",
          "height": 604
        },
        "id": "aeD2qSdaRxO3",
        "outputId": "e0105fb5-e879-42a1-f720-13c020a19beb"
      },
      "source": [
        "dataset"
      ],
      "execution_count": 8,
      "outputs": [
        {
          "output_type": "execute_result",
          "data": {
            "application/vnd.google.colaboratory.intrinsic+json": {
              "type": "string"
            },
            "text/plain": [
              "'Less than one year has passed since I first stood at this podium, in this majestic chamber, to speak on behalf of the American people and to address their concerns, their hopes, and their dreams. That night, our new administration had already taken very swift action. A new tide of optimism was already sweeping across our land. Each day since, we have gone forward with a clear vision and a righteous mission, to make America great again for all Americans.\\n\\nOver the last year, we have made incredible progress and achieved extraordinary success. We have faced challenges we expected and others we could have never imagined. We have shared in the heights of victory and the pains of hardship. We have endured floods and fires and storms. But through it all, we have seen the beauty of America’s soul and the steel in America’s spine. Each test forged new American heroes to remind us who we are and show us what we can be.\\n\\nWe saw the volunteers of the Cajun Navy racing to the rescue with their fishing boats to save people in the aftermath of a totally devastating hurricane. We saw strangers shielding strangers from a hail of gunfire on the Las Vegas strip. We heard tales of Americans, like Coast Guard Petty Officer Ashlee Leppert, who is here tonight in the gallery, with Melania.\\n\\nAshlee was aboard one of the first helicopters in the scene used for Hurricane Harvey. 18 hours of wind and rain, Ashlee braved power lines — downed power lines and deep water to save 40 lives. Ashlee, we all thank you. Thank you very much.\\n\\nWe heard about Americans like firefighter David Dahlberg. He is here with us also. David faced down walls of flame to rescue almost 60 children trapped in a California summer camp, threatened by those devastating wildfires. To everyone still recovering in Texas, Florida, Louisiana, Puerto Rico, and the Virgin Islands, everywhere, we are with you, we love you, and we always will pull through together, always.\\n\\nThank you to David and the brave people of California. Thank you very much, David. Great job. Some trials over the past year touched this chamber very personally. With us tonight is one of the toughest people ever to serve in this house, a guy who took a bullet, almost died, and was back to work three and a half months later. The legend from Louisiana, Congressman Steve Scalise.\\n\\nI think they like you, Steve.\\n\\nWe are incredibly grateful for the heroic efforts of the capitol police officers, the Alexandria police, and the doctors, nurses, and paramedics who saved his life and the lives of many others and some in this room — of many others, some in this room.\\n\\nIn the aftermath of that terrible shooting we came together, not as Republicans or Democrats, but as representatives of the people. But it is not enough to come together only in times of tragedy. Tonight, I call on all of us to set aside our differences, to seek out common ground, and to summon the unity we need to deliver for the people. This is really the key. These are the people we are elected to serve.\\n\\nOver the last year, the world has seen what we always know. That no people on Earth are so fearless or daring or determined as Americans. If there is a mountain, we climb it. If there is a frontier, we cross it. If there is a challenge, we tame it. If there is an opportunity, we seize it. Let’s begin tonight by recognizing that the state of our union is strong, because our people are strong.\\n\\nAnd together we are building a safe, strong, and proud America. Since the election, we have created 2.4 million new jobs, including 200,000 new jobs in manufacturing alone. Tremendous.\\n\\nAfter years and years of wages stagnation, we are finally seeing rising wages.\\n\\nUnemployment claims have hit a 45-year low.\\n\\nAnd something I am very proud of: African-American unemployment stands at the lowest rate ever recorded. And Hispanic-American unemployment has also reached the lowest levels in history. Small business confidence is at an all-time high. The stock market has smashed one record after another, gaining a trillion dollars and more in value in just this short period of time.\\n\\nThe great news for Americans: 401(k) retirement, pension, and college savings accounts have gone through the roof. And just as I promised the American people from this podium 11 months ago, we enacted the biggest tax cuts and reforms in American history.\\n\\nOur massive tax cuts provide tremendous relief for the middle class and small businesses to lower tax rates for hard-working Americans. We nearly doubled the standard deduction for everyone.\\n\\nNow, the first $24,000 earned by a married couple is completely tax-free. We also doubled the child tax credit. A typical family of four making $75,000 will see their tax bill reduced by $2,000, slashing their tax bill in half.\\n\\nIn April, this will be the last time you will ever file under the old and very broken system. And millions of Americans will have more take-home pay, starting next month. A lot more.\\n\\nWe eliminated an especially — an especially cruel tax on Americans making less than $50,000 a year, forcing them to pay tremendous penalties, simply because they could not afford government-ordered health plans. We repealed the core of the disastrous Obamacare, the individual mandate is now gone. Thank you.\\n\\n'"
            ]
          },
          "metadata": {
            "tags": []
          },
          "execution_count": 8
        }
      ]
    },
    {
      "cell_type": "code",
      "metadata": {
        "id": "B27C8IEpSSMN"
      },
      "source": [
        "## Create the Function ##\n",
        "\n",
        "def summarization(dataset):\n",
        "    \n",
        "    result = []\n",
        "    for number, sentence in enumerate(sent_tokenize(dataset)):\n",
        "        number_tokens = len(word_tokenize(sentence))\n",
        "        tagged = nltk.pos_tag(word_tokenize(sentence))\n",
        "        number_nouns= len([word for word, pos in tagged if pos in [\"NN\", \"NNP\"]])\n",
        "        ners=nltk.ne_chunk(nltk.pos_tag(word_tokenize(sentence)), binary=False)\n",
        "        number_ners=len([chunk for chunk in ners if hasattr(chunk,'label')])\n",
        "        score=(number_ners + number_nouns) / float(number_tokens)\n",
        "        result.append((number, score, sentence))\n",
        "    return result"
      ],
      "execution_count": 9,
      "outputs": []
    },
    {
      "cell_type": "code",
      "metadata": {
        "colab": {
          "base_uri": "https://localhost:8080/"
        },
        "id": "onCF1p5LSVvU",
        "outputId": "6ec1b3a1-efcf-4ca0-ea0b-4dcedab624fa"
      },
      "source": [
        "summ = summarization(dataset)\n",
        "summ"
      ],
      "execution_count": 22,
      "outputs": [
        {
          "output_type": "execute_result",
          "data": {
            "text/plain": [
              "[(0,\n",
              "  0.125,\n",
              "  'Less than one year has passed since I first stood at this podium, in this majestic chamber, to speak on behalf of the American people and to address their concerns, their hopes, and their dreams.'),\n",
              " (1,\n",
              "  0.23076923076923078,\n",
              "  'That night, our new administration had already taken very swift action.'),\n",
              " (2, 0.25, 'A new tide of optimism was already sweeping across our land.'),\n",
              " (3,\n",
              "  0.19230769230769232,\n",
              "  'Each day since, we have gone forward with a clear vision and a righteous mission, to make America great again for all Americans.'),\n",
              " (4,\n",
              "  0.2,\n",
              "  'Over the last year, we have made incredible progress and achieved extraordinary success.'),\n",
              " (5,\n",
              "  0.0,\n",
              "  'We have faced challenges we expected and others we could have never imagined.'),\n",
              " (6,\n",
              "  0.14285714285714285,\n",
              "  'We have shared in the heights of victory and the pains of hardship.'),\n",
              " (7, 0.0, 'We have endured floods and fires and storms.'),\n",
              " (8,\n",
              "  0.4166666666666667,\n",
              "  'But through it all, we have seen the beauty of America’s soul and the steel in America’s spine.'),\n",
              " (9,\n",
              "  0.1,\n",
              "  'Each test forged new American heroes to remind us who we are and show us what we can be.'),\n",
              " (10,\n",
              "  0.25,\n",
              "  'We saw the volunteers of the Cajun Navy racing to the rescue with their fishing boats to save people in the aftermath of a totally devastating hurricane.'),\n",
              " (11,\n",
              "  0.375,\n",
              "  'We saw strangers shielding strangers from a hail of gunfire on the Las Vegas strip.'),\n",
              " (12,\n",
              "  0.48,\n",
              "  'We heard tales of Americans, like Coast Guard Petty Officer Ashlee Leppert, who is here tonight in the gallery, with Melania.'),\n",
              " (13,\n",
              "  0.375,\n",
              "  'Ashlee was aboard one of the first helicopters in the scene used for Hurricane Harvey.'),\n",
              " (14,\n",
              "  0.30434782608695654,\n",
              "  '18 hours of wind and rain, Ashlee braved power lines — downed power lines and deep water to save 40 lives.'),\n",
              " (15, 0.2857142857142857, 'Ashlee, we all thank you.'),\n",
              " (16, 0.2, 'Thank you very much.'),\n",
              " (17,\n",
              "  0.4444444444444444,\n",
              "  'We heard about Americans like firefighter David Dahlberg.'),\n",
              " (18, 0.0, 'He is here with us also.'),\n",
              " (19,\n",
              "  0.2916666666666667,\n",
              "  'David faced down walls of flame to rescue almost 60 children trapped in a California summer camp, threatened by those devastating wildfires.'),\n",
              " (20,\n",
              "  0.325,\n",
              "  'To everyone still recovering in Texas, Florida, Louisiana, Puerto Rico, and the Virgin Islands, everywhere, we are with you, we love you, and we always will pull through together, always.'),\n",
              " (21,\n",
              "  0.45454545454545453,\n",
              "  'Thank you to David and the brave people of California.'),\n",
              " (22, 0.42857142857142855, 'Thank you very much, David.'),\n",
              " (23, 0.6666666666666666, 'Great job.'),\n",
              " (24,\n",
              "  0.16666666666666666,\n",
              "  'Some trials over the past year touched this chamber very personally.'),\n",
              " (25,\n",
              "  0.07894736842105263,\n",
              "  'With us tonight is one of the toughest people ever to serve in this house, a guy who took a bullet, almost died, and was back to work three and a half months later.'),\n",
              " (26,\n",
              "  0.7777777777777778,\n",
              "  'The legend from Louisiana, Congressman Steve Scalise.'),\n",
              " (27, 0.25, 'I think they like you, Steve.'),\n",
              " (28,\n",
              "  0.17647058823529413,\n",
              "  'We are incredibly grateful for the heroic efforts of the capitol police officers, the Alexandria police, and the doctors, nurses, and paramedics who saved his life and the lives of many others and some in this room — of many others, some in this room.'),\n",
              " (29,\n",
              "  0.125,\n",
              "  'In the aftermath of that terrible shooting we came together, not as Republicans or Democrats, but as representatives of the people.'),\n",
              " (30,\n",
              "  0.07142857142857142,\n",
              "  'But it is not enough to come together only in times of tragedy.'),\n",
              " (31,\n",
              "  0.12121212121212122,\n",
              "  'Tonight, I call on all of us to set aside our differences, to seek out common ground, and to summon the unity we need to deliver for the people.'),\n",
              " (32, 0.16666666666666666, 'This is really the key.'),\n",
              " (33, 0.0, 'These are the people we are elected to serve.'),\n",
              " (34,\n",
              "  0.14285714285714285,\n",
              "  'Over the last year, the world has seen what we always know.'),\n",
              " (35,\n",
              "  0.13333333333333333,\n",
              "  'That no people on Earth are so fearless or daring or determined as Americans.'),\n",
              " (36, 0.1, 'If there is a mountain, we climb it.'),\n",
              " (37, 0.1, 'If there is a frontier, we cross it.'),\n",
              " (38, 0.1, 'If there is a challenge, we tame it.'),\n",
              " (39, 0.1, 'If there is an opportunity, we seize it.'),\n",
              " (40,\n",
              "  0.22727272727272727,\n",
              "  'Let’s begin tonight by recognizing that the state of our union is strong, because our people are strong.'),\n",
              " (41,\n",
              "  0.21428571428571427,\n",
              "  'And together we are building a safe, strong, and proud America.'),\n",
              " (42,\n",
              "  0.05,\n",
              "  'Since the election, we have created 2.4 million new jobs, including 200,000 new jobs in manufacturing alone.'),\n",
              " (43, 1.0, 'Tremendous.'),\n",
              " (44,\n",
              "  0.06666666666666667,\n",
              "  'After years and years of wages stagnation, we are finally seeing rising wages.'),\n",
              " (45, 0.25, 'Unemployment claims have hit a 45-year low.'),\n",
              " (46,\n",
              "  0.16666666666666666,\n",
              "  'And something I am very proud of: African-American unemployment stands at the lowest rate ever recorded.'),\n",
              " (47,\n",
              "  0.16666666666666666,\n",
              "  'And Hispanic-American unemployment has also reached the lowest levels in history.'),\n",
              " (48, 0.4444444444444444, 'Small business confidence is at an all-time high.'),\n",
              " (49,\n",
              "  0.23076923076923078,\n",
              "  'The stock market has smashed one record after another, gaining a trillion dollars and more in value in just this short period of time.'),\n",
              " (50,\n",
              "  0.25,\n",
              "  'The great news for Americans: 401(k) retirement, pension, and college savings accounts have gone through the roof.'),\n",
              " (51,\n",
              "  0.18518518518518517,\n",
              "  'And just as I promised the American people from this podium 11 months ago, we enacted the biggest tax cuts and reforms in American history.'),\n",
              " (52,\n",
              "  0.18181818181818182,\n",
              "  'Our massive tax cuts provide tremendous relief for the middle class and small businesses to lower tax rates for hard-working Americans.'),\n",
              " (53,\n",
              "  0.2222222222222222,\n",
              "  'We nearly doubled the standard deduction for everyone.'),\n",
              " (54,\n",
              "  0.06666666666666667,\n",
              "  'Now, the first $24,000 earned by a married couple is completely tax-free.'),\n",
              " (55, 0.375, 'We also doubled the child tax credit.'),\n",
              " (56,\n",
              "  0.24,\n",
              "  'A typical family of four making $75,000 will see their tax bill reduced by $2,000, slashing their tax bill in half.'),\n",
              " (57,\n",
              "  0.19047619047619047,\n",
              "  'In April, this will be the last time you will ever file under the old and very broken system.'),\n",
              " (58,\n",
              "  0.21428571428571427,\n",
              "  'And millions of Americans will have more take-home pay, starting next month.'),\n",
              " (59, 0.25, 'A lot more.'),\n",
              " (60,\n",
              "  0.08333333333333333,\n",
              "  'We eliminated an especially — an especially cruel tax on Americans making less than $50,000 a year, forcing them to pay tremendous penalties, simply because they could not afford government-ordered health plans.'),\n",
              " (61,\n",
              "  0.1875,\n",
              "  'We repealed the core of the disastrous Obamacare, the individual mandate is now gone.'),\n",
              " (62, 0.3333333333333333, 'Thank you.')]"
            ]
          },
          "metadata": {
            "tags": []
          },
          "execution_count": 22
        }
      ]
    },
    {
      "cell_type": "code",
      "metadata": {
        "colab": {
          "base_uri": "https://localhost:8080/"
        },
        "id": "sD2TVJGlSYjy",
        "outputId": "21862a11-d085-4007-cf58-359d5f8b5b4c"
      },
      "source": [
        "## Print the Summary ##\n",
        "for i in sorted(summ, key=lambda x: x[1], reverse=True):\n",
        "    print(i[2])"
      ],
      "execution_count": 23,
      "outputs": [
        {
          "output_type": "stream",
          "text": [
            "Tremendous.\n",
            "The legend from Louisiana, Congressman Steve Scalise.\n",
            "Great job.\n",
            "We heard tales of Americans, like Coast Guard Petty Officer Ashlee Leppert, who is here tonight in the gallery, with Melania.\n",
            "Thank you to David and the brave people of California.\n",
            "We heard about Americans like firefighter David Dahlberg.\n",
            "Small business confidence is at an all-time high.\n",
            "Thank you very much, David.\n",
            "But through it all, we have seen the beauty of America’s soul and the steel in America’s spine.\n",
            "We saw strangers shielding strangers from a hail of gunfire on the Las Vegas strip.\n",
            "Ashlee was aboard one of the first helicopters in the scene used for Hurricane Harvey.\n",
            "We also doubled the child tax credit.\n",
            "Thank you.\n",
            "To everyone still recovering in Texas, Florida, Louisiana, Puerto Rico, and the Virgin Islands, everywhere, we are with you, we love you, and we always will pull through together, always.\n",
            "18 hours of wind and rain, Ashlee braved power lines — downed power lines and deep water to save 40 lives.\n",
            "David faced down walls of flame to rescue almost 60 children trapped in a California summer camp, threatened by those devastating wildfires.\n",
            "Ashlee, we all thank you.\n",
            "A new tide of optimism was already sweeping across our land.\n",
            "We saw the volunteers of the Cajun Navy racing to the rescue with their fishing boats to save people in the aftermath of a totally devastating hurricane.\n",
            "I think they like you, Steve.\n",
            "Unemployment claims have hit a 45-year low.\n",
            "The great news for Americans: 401(k) retirement, pension, and college savings accounts have gone through the roof.\n",
            "A lot more.\n",
            "A typical family of four making $75,000 will see their tax bill reduced by $2,000, slashing their tax bill in half.\n",
            "That night, our new administration had already taken very swift action.\n",
            "The stock market has smashed one record after another, gaining a trillion dollars and more in value in just this short period of time.\n",
            "Let’s begin tonight by recognizing that the state of our union is strong, because our people are strong.\n",
            "We nearly doubled the standard deduction for everyone.\n",
            "And together we are building a safe, strong, and proud America.\n",
            "And millions of Americans will have more take-home pay, starting next month.\n",
            "Over the last year, we have made incredible progress and achieved extraordinary success.\n",
            "Thank you very much.\n",
            "Each day since, we have gone forward with a clear vision and a righteous mission, to make America great again for all Americans.\n",
            "In April, this will be the last time you will ever file under the old and very broken system.\n",
            "We repealed the core of the disastrous Obamacare, the individual mandate is now gone.\n",
            "And just as I promised the American people from this podium 11 months ago, we enacted the biggest tax cuts and reforms in American history.\n",
            "Our massive tax cuts provide tremendous relief for the middle class and small businesses to lower tax rates for hard-working Americans.\n",
            "We are incredibly grateful for the heroic efforts of the capitol police officers, the Alexandria police, and the doctors, nurses, and paramedics who saved his life and the lives of many others and some in this room — of many others, some in this room.\n",
            "Some trials over the past year touched this chamber very personally.\n",
            "This is really the key.\n",
            "And something I am very proud of: African-American unemployment stands at the lowest rate ever recorded.\n",
            "And Hispanic-American unemployment has also reached the lowest levels in history.\n",
            "We have shared in the heights of victory and the pains of hardship.\n",
            "Over the last year, the world has seen what we always know.\n",
            "That no people on Earth are so fearless or daring or determined as Americans.\n",
            "Less than one year has passed since I first stood at this podium, in this majestic chamber, to speak on behalf of the American people and to address their concerns, their hopes, and their dreams.\n",
            "In the aftermath of that terrible shooting we came together, not as Republicans or Democrats, but as representatives of the people.\n",
            "Tonight, I call on all of us to set aside our differences, to seek out common ground, and to summon the unity we need to deliver for the people.\n",
            "Each test forged new American heroes to remind us who we are and show us what we can be.\n",
            "If there is a mountain, we climb it.\n",
            "If there is a frontier, we cross it.\n",
            "If there is a challenge, we tame it.\n",
            "If there is an opportunity, we seize it.\n",
            "We eliminated an especially — an especially cruel tax on Americans making less than $50,000 a year, forcing them to pay tremendous penalties, simply because they could not afford government-ordered health plans.\n",
            "With us tonight is one of the toughest people ever to serve in this house, a guy who took a bullet, almost died, and was back to work three and a half months later.\n",
            "But it is not enough to come together only in times of tragedy.\n",
            "After years and years of wages stagnation, we are finally seeing rising wages.\n",
            "Now, the first $24,000 earned by a married couple is completely tax-free.\n",
            "Since the election, we have created 2.4 million new jobs, including 200,000 new jobs in manufacturing alone.\n",
            "We have faced challenges we expected and others we could have never imagined.\n",
            "We have endured floods and fires and storms.\n",
            "He is here with us also.\n",
            "These are the people we are elected to serve.\n"
          ],
          "name": "stdout"
        }
      ]
    },
    {
      "cell_type": "code",
      "metadata": {
        "id": "7-v_rSisS5JA"
      },
      "source": [
        ""
      ],
      "execution_count": null,
      "outputs": []
    }
  ]
}